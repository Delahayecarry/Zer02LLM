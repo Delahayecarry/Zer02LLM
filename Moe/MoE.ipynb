{
 "cells": [
  {
   "cell_type": "markdown",
   "metadata": {},
   "source": [
    "## 1 - 基础版本的MoE\n"
   ]
  },
  {
   "cell_type": "code",
   "execution_count": 3,
   "metadata": {},
   "outputs": [],
   "source": [
    "import torch \n",
    "import torch.nn as nn\n",
    "import torch.nn.functional as F\n"
   ]
  },
  {
   "cell_type": "code",
   "execution_count": 4,
   "metadata": {},
   "outputs": [],
   "source": [
    "class Expert(nn.Module):\n",
    "    def __init__(self, input_dim, output_dim):\n",
    "        super(Expert, self).__init__()\n",
    "        self.expert = nn.Linear(input_dim, output_dim)\n",
    "        # 普通线性层\n",
    "        # 输入形状为(batch_size, input_dim)\n",
    "\n",
    "    def forward(self, x):\n",
    "        return self.expert(x)"
   ]
  },
  {
   "cell_type": "code",
   "execution_count": 27,
   "metadata": {},
   "outputs": [
    {
     "name": "stdout",
     "output_type": "stream",
     "text": [
      "torch.Size([4, 1, 128])\n",
      "torch.Size([4, 4, 128])\n",
      "torch.Size([4, 128])\n"
     ]
    }
   ],
   "source": [
    "class BasicMoE(nn.Module):\n",
    "    def __init__ (self, num_experts, input_dim, output_dim):\n",
    "        super(BasicMoE, self).__init__()\n",
    "        self.experts = nn.ModuleList(\n",
    "            [nn.Linear(input_dim, output_dim) for _ in range(num_experts)]\n",
    "        )\n",
    "\n",
    "        self.gate = nn.Linear(input_dim, num_experts)\n",
    "\n",
    "    def forward(self, x):\n",
    "        # x 的形状是 (batch_size, input_dim)\n",
    "        expert_weights = self.gate(x)\n",
    "        # expert_weights 的形状是 (batch_size, num_experts)\n",
    "        expert_outputs_list = [\n",
    "            experts(x).unsqueeze(1) for experts in self.experts\n",
    "            \n",
    "        ] # expert_outputs_list 是一个列表，列表中的每个元素是一个形状为 (batch_size, 1, output_dim) 的张量\n",
    "        print(expert_outputs_list[0].shape)\n",
    "        expert_outputs = torch.cat(expert_outputs_list, dim=1)\n",
    "        #  expert_outputs 的形状是 (batch_size, num_experts, output_dim)\n",
    "        print(expert_outputs.shape)\n",
    "\n",
    "  \n",
    "        # 所以我们可以使用 softmax 函数将其转换为概率分布\n",
    "        gate_outputs = F.softmax(expert_weights, dim=1)\n",
    "        # gate_outputs 的形状是 (batch_size, num_experts)\n",
    "        # 我们可以使用这些概率来加权每个专家的输出\n",
    "        weighted_expert_outputs = gate_outputs @ expert_outputs #执行的是严格矩阵乘法\n",
    "        # weighted_expert_outputs 的形状是 (batch_size, experts ,output_dim)\n",
    "        outputs = torch.sum(weighted_expert_outputs, dim=1)\n",
    "        # outputs 的形状是 (batch_size, output_dim) \n",
    "        # sum是对第二维度求和将experts维度消除\n",
    "        # print(weighted_expert_outputs.shape)\n",
    "        return outputs\n",
    "def test():\n",
    "    x = torch.randn(4, 512)\n",
    "    model = BasicMoE(4, 512, 128)\n",
    "    output = model(x)\n",
    "    print(output.shape)\n",
    "\n",
    "test()"
   ]
  },
  {
   "cell_type": "markdown",
   "metadata": {},
   "source": []
  },
  {
   "cell_type": "code",
   "execution_count": 8,
   "metadata": {},
   "outputs": [
    {
     "name": "stdout",
     "output_type": "stream",
     "text": [
      "torch.Size([4, 128])\n"
     ]
    }
   ],
   "source": [
    "import torch\n",
    "import torch.nn as nn\n",
    "import torch.nn.functional as F\n",
    "\n",
    "class Expert(nn.Module):\n",
    "    def __init__(self, input_dim, output_dim):\n",
    "        super(Expert, self).__init__()\n",
    "        self.expert = nn.Linear(input_dim, output_dim)\n",
    "\n",
    "    def forward(self, x):\n",
    "        return self.expert(x)\n",
    "\n",
    "class BasicMoe(nn.Module):\n",
    "    def __init__(self, input_dim, output_dim, num_experts):\n",
    "        super(BasicMoe, self).__init__()\n",
    "        self.experts = nn.ModuleList(\n",
    "            [Expert(input_dim, output_dim) for _ in range(num_experts)]\n",
    "        )  \n",
    "\n",
    "        self.gate = nn.Linear(input_dim, num_experts)\n",
    "\n",
    "\n",
    "    def forward(self, x):\n",
    "        experts_scroes = self.gate(x)\n",
    "        # x 的形状是 (batch_size, input_dim)\n",
    "        experts_weights = F.softmax(experts_scroes, dim=1)\n",
    "        # experts_weights 的形状是 (batch_size, input_dim)\n",
    "\n",
    "        expert_outputs_list = [\n",
    "            expert(x).unsqueeze(1) for expert in self.experts\n",
    "        ] # expert_outputs_list 是一个列表，列表中的每个元素是一个形状为 (batch_size, 1, output_dim) 的张量\n",
    "\n",
    "        expert_outputs = torch.cat(expert_outputs_list, dim=1)\n",
    "        # expert_outputs 的形状是 (batch_size, num_experts, output_dim)\n",
    "\n",
    "        weighted_expert_outputs = experts_weights @ expert_outputs\n",
    "        # weighted_expert_outputs 的形状是 (batch_size, num_experts, output_dim)\n",
    "\n",
    "        outputs = torch.sum(weighted_expert_outputs, dim=1)\n",
    "\n",
    "        return outputs\n",
    "    \n",
    "def test():\n",
    "    x = torch.randn(4, 512)\n",
    "    model = BasicMoe(512, 128, 4)\n",
    "    output = model(x)\n",
    "    print(output.shape)\n",
    "\n",
    "test()\n",
    "\n",
    "        \n",
    "\n",
    "\n"
   ]
  }
 ],
 "metadata": {
  "kernelspec": {
   "display_name": "Python 3",
   "language": "python",
   "name": "python3"
  },
  "language_info": {
   "codemirror_mode": {
    "name": "ipython",
    "version": 3
   },
   "file_extension": ".py",
   "mimetype": "text/x-python",
   "name": "python",
   "nbconvert_exporter": "python",
   "pygments_lexer": "ipython3",
   "version": "3.10.16"
  }
 },
 "nbformat": 4,
 "nbformat_minor": 2
}
